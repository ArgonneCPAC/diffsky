{
 "cells": [
  {
   "cell_type": "markdown",
   "id": "5ce45be1-e5ce-417a-a6de-38b4752c54e8",
   "metadata": {},
   "source": [
    "# Generating weighted lightcones of galaxies"
   ]
  },
  {
   "cell_type": "code",
   "execution_count": null,
   "id": "93895668-3dbd-49b5-9fa7-a0cbc165e7aa",
   "metadata": {},
   "outputs": [],
   "source": [
    "import numpy as np\n",
    "from matplotlib import pyplot as plt\n",
    "\n",
    "from jax import random as jran\n",
    "ran_key = jran.key(0)"
   ]
  },
  {
   "cell_type": "markdown",
   "id": "f7cd3d61-dd81-4231-a5ad-fe5cef682dbf",
   "metadata": {},
   "source": [
    "### Generate a population of halos/galaxies with MAH and SFH\n",
    "\n",
    "Use the `sobol_lightcone_diffstar_cens` function to generate a population of central halo MAH and galaxy SFH"
   ]
  },
  {
   "cell_type": "code",
   "execution_count": null,
   "id": "0200b869-3c72-4af9-82a5-085a69215c7e",
   "metadata": {},
   "outputs": [],
   "source": [
    "from diffsky.experimental import mc_lightcone_halos as mclh\n",
    "\n",
    "num_halos = 5_000\n",
    "z_min, z_max = 0.01, 2.0\n",
    "lgmp_min, lgmp_max = 10.5, 15.5\n",
    "sky_area_degsq = 1.0\n",
    "\n",
    "ran_key, lc_key = jran.split(ran_key, 2)\n",
    "args =(\n",
    "    lc_key,\n",
    "    num_halos,\n",
    "    z_min,\n",
    "    z_max,\n",
    "    lgmp_min,\n",
    "    lgmp_max,\n",
    "    sky_area_degsq)\n",
    "\n",
    "cenpop = mclh.sobol_lightcone_diffstar_cens(*args)\n",
    "print(cenpop.keys())\n",
    "print(np.mean(np.isnan(cenpop['mah_params'].logm0)))"
   ]
  },
  {
   "cell_type": "markdown",
   "id": "ab2e87de-2a48-4385-bcf9-f4c1b2fdfe0e",
   "metadata": {},
   "source": [
    "#### Sanity check the `logmp_obs` column agrees when recomputed"
   ]
  },
  {
   "cell_type": "code",
   "execution_count": null,
   "id": "e394624a-3bc1-4899-ba54-f3f1b32c3907",
   "metadata": {},
   "outputs": [],
   "source": [
    "from diffmah import mah_halopop\n",
    "t0 = 13.8\n",
    "tarr = np.linspace(0.1, t0, 200)\n",
    "\n",
    "dmhdt, log_mah = mah_halopop(cenpop['mah_params'], tarr, np.log10(t0))\n",
    "\n",
    "from jax import vmap\n",
    "from jax import jit as jjit\n",
    "interp_vmap = jjit(vmap(jnp.interp, in_axes=(0, None, 0)))\n",
    "\n",
    "logmp_obs = interp_vmap(cenpop[\"t_obs\"], tarr, log_mah)\n",
    "assert np.allclose(logmp_obs, cenpop['logmp_obs'], rtol=1e-3)"
   ]
  },
  {
   "cell_type": "markdown",
   "id": "f4aa568b-1541-416c-9f02-be47423523fd",
   "metadata": {},
   "source": [
    "#### Examine the range of `{m_obs, z_obs}` spanned by the population\n",
    "\n",
    "Halo mass and redshift uniformly span the input ranges"
   ]
  },
  {
   "cell_type": "code",
   "execution_count": null,
   "id": "05d3ec22-b788-4b74-88c1-43374e63bfeb",
   "metadata": {},
   "outputs": [],
   "source": [
    "fig, ax = plt.subplots(1, 1)\n",
    "yscale = ax.set_yscale('log')\n",
    "__=ax.scatter(cenpop['z_obs'], 10**cenpop['logmp_obs'], s=1)\n",
    "xlabel = ax.set_xlabel(r'$z_{\\rm obs}$')\n",
    "ylabel = ax.set_ylabel(r'$M_{\\rm halo}\\ [M_{\\odot}]$')"
   ]
  },
  {
   "cell_type": "markdown",
   "id": "01296d50-8126-4175-9138-2c268a8fbacf",
   "metadata": {},
   "source": [
    "#### For the _weighted_ lightcone, each halo has multiplicity according to its abundance in the volume\n",
    "\n",
    "This `nhalos` column needs to be taken into account when predicting summary statistics from the weighted lightcone."
   ]
  },
  {
   "cell_type": "code",
   "execution_count": null,
   "id": "5eda0e6a-dc9b-4a1d-a5d5-b0b3ccd2644b",
   "metadata": {},
   "outputs": [],
   "source": [
    "fig, ax = plt.subplots(1, 1)\n",
    "__=ax.loglog()\n",
    "__=ax.scatter(10**cenpop['logmp_obs'], cenpop['nhalos'], s=1)\n",
    "xlabel = ax.set_xlabel(r'$M_{\\rm halo}\\ [M_{\\odot}]$')\n",
    "ylabel = ax.set_ylabel(r'$N_{\\rm halos}$')"
   ]
  },
  {
   "cell_type": "markdown",
   "id": "1fd9fdf0-d8a9-4eb3-a001-28fcc71aba12",
   "metadata": {},
   "source": [
    "#### Calculate the halo mass function, accounting for halo weights\n",
    "\n",
    "The unweighted version uniformly spans $\\log_{10}M_{\\rm halo}$. The weighted version has the expected Schechter-type shape of the HMF."
   ]
  },
  {
   "cell_type": "code",
   "execution_count": null,
   "id": "b7a1f660-f56d-44f5-9324-d741f64a9dc7",
   "metadata": {},
   "outputs": [],
   "source": [
    "fig, ax = plt.subplots(1, 1)\n",
    "yscale = ax.set_yscale('log')\n",
    "__=ax.hist(cenpop['logmp_obs'], bins=100, alpha=0.7, label=r'${\\rm unweighted}$')\n",
    "__=ax.hist(cenpop['logmp_obs'], bins=100, weights=cenpop['nhalos'], alpha=0.7, label=r'${\\rm weighted}$')\n",
    "xlabel = ax.set_xlabel(r'$\\log_{10}M_{\\rm halo}/M_{\\odot}$')\n",
    "ylabel = ax.set_ylabel(r'$N_{\\rm halos}$')\n",
    "leg = ax.legend()"
   ]
  },
  {
   "cell_type": "markdown",
   "id": "aaee2cdd-8cbd-415c-bac0-4d2d7c950774",
   "metadata": {},
   "source": [
    "#### Calculate $n_{\\rm halo}(z),$ accounting for halo weights\n",
    "\n",
    "The unweighted version uniformly spans $z_{\\rm min}<z<z_{\\rm max}$. The weighted version accounts for the redshift evolution of the cosmological volume element and the mass function."
   ]
  },
  {
   "cell_type": "code",
   "execution_count": null,
   "id": "e7b41f8a-f7fe-47e3-b088-e004a3d0b1c2",
   "metadata": {},
   "outputs": [],
   "source": [
    "fig, ax = plt.subplots(1, 1)\n",
    "yscale = ax.set_yscale('log')\n",
    "__=ax.hist(cenpop['z_obs'], bins=100, alpha=0.7, label=r'${\\rm unweighted}$')\n",
    "__=ax.hist(cenpop['z_obs'], bins=100, weights=cenpop['nhalos'], alpha=0.7, label=r'${\\rm weighted}$')\n",
    "xlabel = ax.set_xlabel(r'${\\rm redshift}$')\n",
    "ylabel = ax.set_ylabel(r'$N_{\\rm halos}$')\n",
    "leg = ax.legend()"
   ]
  },
  {
   "cell_type": "markdown",
   "id": "aa123d6d-81ce-4000-b3eb-2b8a7fc29c33",
   "metadata": {},
   "source": [
    "#### Examine the stellar-to-halo mass relation"
   ]
  },
  {
   "cell_type": "code",
   "execution_count": null,
   "id": "c03f0949-65f8-421a-abb8-8b6a724cd60b",
   "metadata": {},
   "outputs": [],
   "source": [
    "fig, ax = plt.subplots(1, 1)\n",
    "__=ax.loglog()\n",
    "__=ax.scatter(10**cenpop['logmp_obs'], 10**cenpop['logsm_obs'], s=1)\n",
    "\n",
    "xlabel = ax.set_xlabel(r'$M_{\\rm halo}\\ [M_{\\odot}]$')\n",
    "ylabel = ax.set_ylabel(r'$M_{\\star}\\ [M_{\\odot}]$')"
   ]
  },
  {
   "cell_type": "markdown",
   "id": "f5bfb9db-335e-4320-bd68-f7f041448221",
   "metadata": {},
   "source": [
    "#### Visually inspect the diversity of SFHs"
   ]
  },
  {
   "cell_type": "code",
   "execution_count": null,
   "id": "2f51a9e6-7b23-4d9a-b28a-ca25df550b08",
   "metadata": {},
   "outputs": [],
   "source": [
    "fig, ax = plt.subplots(1, 1)\n",
    "yscale = ax.set_yscale('log')\n",
    "ylim = ax.set_ylim(8e-3, 5e2)\n",
    "xscale = ax.set_xscale('log')\n",
    "xlim = ax.set_xlim(1, 15)\n",
    "\n",
    "n_plot = 10\n",
    "for i in range(n_plot):\n",
    "    __=ax.plot(cenpop['t_table'], cenpop['sfh_table'][i, :])\n",
    "\n",
    "xlabel = ax.set_xlabel(r'${\\rm cosmic\\ time\\ [Gyr]}$')\n",
    "ylabel = ax.set_ylabel(r'${\\rm SFR\\ [M_{\\odot}/yr]}$')"
   ]
  },
  {
   "cell_type": "markdown",
   "id": "ab680ef9-5c74-459f-8ab0-4ea48e9abf28",
   "metadata": {},
   "source": [
    "#### Visually inspect the sSFR PDF"
   ]
  },
  {
   "cell_type": "code",
   "execution_count": null,
   "id": "302afa71-5a0c-4472-b72d-0d95689c9fc7",
   "metadata": {},
   "outputs": [],
   "source": [
    "fig, ax = plt.subplots(1, 1)\n",
    "xlim = ax.set_xlim(-14, -7)\n",
    "__=ax.hist(cenpop['logssfr_obs'], bins=150, alpha=0.7)\n",
    "xlabel = ax.set_xlabel(r'${\\rm log_{10}(sSFR)}$')"
   ]
  },
  {
   "cell_type": "markdown",
   "id": "a17a2e4a-7933-43c6-addc-f01d0b313c03",
   "metadata": {},
   "source": [
    "#### Visually inspect star-forming sequence"
   ]
  },
  {
   "cell_type": "code",
   "execution_count": null,
   "id": "e1c2de09-8245-44c0-ba91-0b192cd52428",
   "metadata": {},
   "outputs": [],
   "source": [
    "fig, ax = plt.subplots(1, 1)\n",
    "ylim = ax.set_ylim(-13.5, -7.5)\n",
    "xlim = ax.set_xlim(7.5, 12)\n",
    "__=ax.scatter(cenpop['logsm_obs'], cenpop['logssfr_obs'], s=1)\n",
    "xlabel = ax.set_xlabel(r'${\\rm log_{10}(M_{\\star})}$')\n",
    "ylabel = ax.set_ylabel(r'${\\rm log_{10}(sSFR)}$')"
   ]
  }
 ],
 "metadata": {
  "kernelspec": {
   "display_name": "Python 3 (ipykernel)",
   "language": "python",
   "name": "python3"
  },
  "language_info": {
   "codemirror_mode": {
    "name": "ipython",
    "version": 3
   },
   "file_extension": ".py",
   "mimetype": "text/x-python",
   "name": "python",
   "nbconvert_exporter": "python",
   "pygments_lexer": "ipython3",
   "version": "3.12.9"
  }
 },
 "nbformat": 4,
 "nbformat_minor": 5
}
