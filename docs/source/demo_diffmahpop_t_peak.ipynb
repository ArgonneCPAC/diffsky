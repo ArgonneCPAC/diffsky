{
 "cells": [
  {
   "cell_type": "markdown",
   "id": "1cea7043-98d7-4638-92d6-fdf60d092da1",
   "metadata": {},
   "source": [
    "# Monte Carlo Samples of Subhalo Merger Trees"
   ]
  },
  {
   "cell_type": "code",
   "execution_count": null,
   "id": "924b193d-8ce3-4473-a1e7-251552e9b758",
   "metadata": {},
   "outputs": [],
   "source": [
    "from jax import random as jran\n",
    "ran_key = jran.key(0)"
   ]
  },
  {
   "cell_type": "markdown",
   "id": "53d5c9ac-710b-48f8-a86f-cd82278e3bec",
   "metadata": {},
   "source": [
    "### Generate a sample of halos at $z=0.5$"
   ]
  },
  {
   "cell_type": "code",
   "execution_count": null,
   "id": "e11ac073-7e5d-4ac2-8ccb-298d0ed89e7b",
   "metadata": {},
   "outputs": [],
   "source": [
    "from diffsky import mc_subhalos\n",
    "\n",
    "lgmp_min = 10.5 # minimum halo mass\n",
    "z_obs = 0.5\n",
    "Lbox_com = 200.0 # Mpc/h\n",
    "volume_com = Lbox_com**3 \n",
    "\n",
    "subcat = mc_subhalos(ran_key, lgmp_min, z_obs, volume_com)\n",
    "subcat._fields"
   ]
  },
  {
   "cell_type": "markdown",
   "id": "9dd1e6f7-6ecb-4d15-ab24-418d9d5634c3",
   "metadata": {},
   "source": [
    "#### Plot subhalo mass function at $z_{\\rm obs}$"
   ]
  },
  {
   "cell_type": "code",
   "execution_count": null,
   "id": "76eca22b-2bed-4576-93ab-789ca33c1376",
   "metadata": {},
   "outputs": [],
   "source": [
    "from matplotlib import pyplot as plt\n",
    "\n",
    "fig, ax = plt.subplots(1, 1)\n",
    "yscale = ax.set_yscale('log')\n",
    "__=ax.hist(subcat.lgmp_at_t_obs, bins=100, alpha=0.7)\n",
    "xlabel = ax.set_xlabel(r'$\\log M_{\\rm h}(z_{\\rm obs})$')"
   ]
  },
  {
   "cell_type": "markdown",
   "id": "c4a93204-2d86-4546-9e74-bfe38d73af7a",
   "metadata": {},
   "source": [
    "## Compute halo MAHs with ${\\tt diffmah}$"
   ]
  },
  {
   "cell_type": "code",
   "execution_count": null,
   "id": "6878f635-51a7-45e9-97a6-58da616fc4a2",
   "metadata": {},
   "outputs": [],
   "source": [
    "from diffmah.diffmah_kernels import mah_halopop\n",
    "import numpy as np\n",
    "\n",
    "t_0 = 13.8\n",
    "lgt0 = np.log10(t_0)\n",
    "tarr = np.linspace(0.5, t_0, 100)\n",
    "\n",
    "args = (subcat.mah_params, tarr, lgt0)\n",
    "dmhdt, log_mah = mah_halopop(*args)"
   ]
  },
  {
   "cell_type": "markdown",
   "id": "8ab06a2e-1b5f-4b23-8e6e-7dfe08ce41ee",
   "metadata": {},
   "source": [
    "### Plot some MAHs for halos of different mass"
   ]
  },
  {
   "cell_type": "code",
   "execution_count": null,
   "id": "738e5a67-667a-48f7-9cbf-8b28a688f285",
   "metadata": {},
   "outputs": [],
   "source": [
    "mskm105 = np.abs(subcat.lgmp_at_t_obs - 10.5) < 0.2\n",
    "mskm115 = np.abs(subcat.lgmp_at_t_obs - 11.5) < 0.2\n",
    "mskm125 = np.abs(subcat.lgmp_at_t_obs - 12.5) < 0.2\n",
    "mskm135 = np.abs(subcat.lgmp_at_t_obs - 13.5) < 0.2\n",
    "mskm145 = np.abs(subcat.lgmp_at_t_obs - 14.5) < 0.2\n",
    "\n",
    "fig, ax = plt.subplots(1, 1)\n",
    "xlim = ax.set_xlim(0.5, t_0)\n",
    "yscale = ax.set_yscale('log')\n",
    "\n",
    "mred = u'#d62728' \n",
    "morange = u'#ff7f0e'  \n",
    "mgreen = u'#2ca02c'\n",
    "mblue = u'#1f77b4' \n",
    "mpurple = u'#9467bd' \n",
    "for i in range(10):\n",
    "    __=ax.plot(tarr, 10**log_mah[mskm105][i], lw=0.5, color=mpurple)\n",
    "    __=ax.plot(tarr, 10**log_mah[mskm115][i], lw=0.5, color=mblue)\n",
    "    __=ax.plot(tarr, 10**log_mah[mskm125][i], lw=0.5, color=mgreen)\n",
    "    __=ax.plot(tarr, 10**log_mah[mskm135][i], lw=0.5, color=morange)\n",
    "    __=ax.plot(tarr, 10**log_mah[mskm145][i], lw=0.5, color=mred)\n",
    "\n",
    "xlabel = ax.set_xlabel(r'${\\rm cosmic\\ time\\ [Gyr]}$')\n",
    "ylabel = ax.set_ylabel(r'$M_{\\rm halo}\\ {\\rm [M_{\\odot}]}$')\n",
    "title = ax.set_title(r'${\\rm DiffmahPop}$-${\\rm generated\\ MAHs}$')"
   ]
  },
  {
   "cell_type": "code",
   "execution_count": null,
   "id": "f4279208-3231-4f1a-9236-a7467738a089",
   "metadata": {},
   "outputs": [],
   "source": []
  }
 ],
 "metadata": {
  "kernelspec": {
   "display_name": "Python 3 (ipykernel)",
   "language": "python",
   "name": "python3"
  },
  "language_info": {
   "codemirror_mode": {
    "name": "ipython",
    "version": 3
   },
   "file_extension": ".py",
   "mimetype": "text/x-python",
   "name": "python",
   "nbconvert_exporter": "python",
   "pygments_lexer": "ipython3",
   "version": "3.12.5"
  }
 },
 "nbformat": 4,
 "nbformat_minor": 5
}
