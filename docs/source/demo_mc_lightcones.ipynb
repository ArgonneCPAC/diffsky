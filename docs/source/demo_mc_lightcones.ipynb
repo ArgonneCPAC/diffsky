{
 "cells": [
  {
   "cell_type": "markdown",
   "id": "4ec08477-9805-4368-b183-8b19664e294c",
   "metadata": {},
   "source": [
    "# Monte Carlo Samples of Halo Lightcones\n",
    "\n",
    "Generate an example sample of host halos on a lightcone."
   ]
  },
  {
   "cell_type": "code",
   "execution_count": null,
   "id": "73d0b4c7-e405-4121-a6c6-4422fb3b7722",
   "metadata": {},
   "outputs": [],
   "source": [
    "from matplotlib import pyplot as plt\n",
    "import numpy as np"
   ]
  },
  {
   "cell_type": "code",
   "execution_count": null,
   "id": "e818cc2b-50f6-46d0-9409-f189cd2e75a0",
   "metadata": {},
   "outputs": [],
   "source": [
    "from jax import random as jran\n",
    "ran_key = jran.key(0)"
   ]
  },
  {
   "cell_type": "code",
   "execution_count": null,
   "id": "00d41f0e-9cf4-4b81-a240-17e1b4a88fe5",
   "metadata": {},
   "outputs": [],
   "source": [
    "from diffsky.experimental import mc_lightcone_halos as mclh\n",
    "\n",
    "lgmp_min = 11.5\n",
    "z_min, z_max = 0.1, 3.0\n",
    "sky_area_degsq = 2.0\n",
    "args = (ran_key, lgmp_min, z_min, z_max, sky_area_degsq)\n",
    "\n",
    "redshift, lgmp = mclh.mc_lightcone_host_halo_mass_function(*args)"
   ]
  },
  {
   "cell_type": "code",
   "execution_count": null,
   "id": "bccaf463-bb9d-4afc-bece-37af6f3ef447",
   "metadata": {},
   "outputs": [],
   "source": [
    "fig, (ax0, ax1) = plt.subplots(1, 2, figsize=(10, 4))\n",
    "yscale = ax1.set_yscale('log')\n",
    "\n",
    "__=ax0.hist(redshift, bins=100, alpha=0.7)\n",
    "__=ax1.hist(lgmp, bins=100, alpha=0.7)\n",
    "xlabel = ax0.set_xlabel(r'${\\rm redshift}$')\n",
    "xlabel = ax1.set_xlabel(r'${\\rm log_{10}M_{halo}}$')"
   ]
  },
  {
   "cell_type": "markdown",
   "id": "052518a9-691f-4b7b-888f-fbfd2b51afbe",
   "metadata": {},
   "source": [
    "## Check self-consistency of lightcone vs single-z Monte Carlo generators\n",
    "\n",
    "Generate a halo lightcone over a narrow range of redshift, and compare the halo mass function to a Monte Carlo realization of a population at a single redshift."
   ]
  },
  {
   "cell_type": "code",
   "execution_count": null,
   "id": "a9254ec8-1578-4ccd-b8f3-6c084b4ff950",
   "metadata": {},
   "outputs": [],
   "source": [
    "from dsps.cosmology import DEFAULT_COSMOLOGY, flat_wcdm\n",
    "\n",
    "z_min, z_max = 0.5, 0.55\n",
    "\n",
    "d_com_z_min = flat_wcdm.comoving_distance_to_z(z_min, *DEFAULT_COSMOLOGY)\n",
    "d_com_z_max = flat_wcdm.comoving_distance_to_z(z_max, *DEFAULT_COSMOLOGY)\n",
    "\n",
    "vol_z_min = (4/3)*np.pi*d_com_z_min**3\n",
    "vol_z_max = (4/3)*np.pi*d_com_z_max**3\n",
    "\n",
    "sky_area_degsq = 200.0\n",
    "fsky = sky_area_degsq/mclh.FULL_SKY_AREA\n",
    "vol_lightcone_mpc = fsky*(vol_z_max-vol_z_min)\n",
    "\n",
    "args = (ran_key, lgmp_min, z_min, z_max, sky_area_degsq)\n",
    "redshift_lightcone, lgmp_halopop_lightcone = mclh.mc_lightcone_host_halo_mass_function(*args)"
   ]
  },
  {
   "cell_type": "code",
   "execution_count": null,
   "id": "4a77620f-dc7e-45b6-a38a-8077df295743",
   "metadata": {},
   "outputs": [],
   "source": [
    "from diffsky.mass_functions import mc_hosts\n",
    "redshift_singlez = np.median(redshift_lightcone)\n",
    "args = (ran_key, lgmp_min, redshift_singlez, vol_lightcone_mpc)\n",
    "lgmp_halopop_singlez = mc_hosts.mc_host_halos_singlez(*args)"
   ]
  },
  {
   "cell_type": "code",
   "execution_count": null,
   "id": "caf9db68-4476-4ac0-a9f6-126c2b0607ee",
   "metadata": {},
   "outputs": [],
   "source": [
    "fig, ax = plt.subplots(1, 1)\n",
    "yscale = ax.set_yscale('log')\n",
    "xlabel = ax.set_xlabel(r'${\\rm log_{10}M_{halo}}$')\n",
    "\n",
    "counts_singlez, lgmp_bins, __ =ax.hist(lgmp_halopop_singlez, bins=100, alpha=0.7, label=r'${\\rm single}$-$z\\ {\\rm halos}$')\n",
    "counts_lightcone, __, __ =ax.hist(lgmp_halopop_lightcone, bins=lgmp_bins, alpha=0.7, label=r'${\\rm lightcone\\ halos}$')\n",
    "leg = ax.legend()"
   ]
  },
  {
   "cell_type": "code",
   "execution_count": null,
   "id": "505d46fd-f669-4670-8f5d-245dc3b6a56b",
   "metadata": {},
   "outputs": [],
   "source": [
    "msk_well_sampled = counts_singlez > 200\n",
    "counts_ratio = counts_lightcone[msk_well_sampled]/counts_singlez[msk_well_sampled]\n",
    "assert np.allclose(counts_ratio, 1.0, atol=0.1)"
   ]
  },
  {
   "cell_type": "markdown",
   "id": "1e1c32b6-59c0-4ae4-a0f2-6c379bc06f76",
   "metadata": {},
   "source": [
    "## Check agreement between simulated and MC-generated halos\n",
    "\n",
    "Check accuracy of Diffsky Monte Carlo generator by comparing to some pretabulated target data taken from the [SMDPL](https://www.cosmosim.org/metadata/smdpl/) simulation."
   ]
  },
  {
   "cell_type": "code",
   "execution_count": null,
   "id": "b2385c03-a682-4a17-859e-329da67a2eee",
   "metadata": {},
   "outputs": [],
   "source": [
    "import os\n",
    "drn_testing_data = \"../../diffsky/mass_functions/hmf_calibrations/tests/testing_data/\"\n",
    "logmp_bins_rockstar_z0 = np.load(os.path.join(drn_testing_data, \"sfr_catalog_1.000000.hosthalos.logmp_bins.npy\"))\n",
    "lgcuml_density_rockstar_z0 = np.load(os.path.join(drn_testing_data, \"sfr_catalog_1.000000.hosthalos.lgcuml_density.npy\"))\n",
    "\n",
    "logmp_bins_rockstar_z0 = np.load(os.path.join(drn_testing_data, \"sfr_catalog_1.000000.hosthalos.logmp_bins.npy\"))\n",
    "lgcuml_density_rockstar_z0 = np.load(os.path.join(drn_testing_data, \"sfr_catalog_1.000000.hosthalos.lgcuml_density.npy\"))"
   ]
  },
  {
   "cell_type": "code",
   "execution_count": null,
   "id": "7e3ae30d-59e2-4cf3-80a0-5ae78e7f931b",
   "metadata": {},
   "outputs": [],
   "source": [
    "from diffsky.mass_functions.hmf_calibrations.smdpl_hmf import HMF_PARAMS as SMDPL_HMF_PARAMS"
   ]
  },
  {
   "cell_type": "code",
   "execution_count": null,
   "id": "323c7ff8-5590-4f56-b875-2855f8989ae8",
   "metadata": {},
   "outputs": [],
   "source": [
    "smdpl_cosmo = DEFAULT_COSMOLOGY._replace(Om0=0.307115, h=0.67777)\n",
    "Lbox_smdpl = 400.0/smdpl_cosmo.h\n",
    "Vbox_smdpl = Lbox_smdpl**3\n",
    "\n",
    "lgmp_min = logmp_bins_rockstar_z0.min()\n",
    "z0 = 0.0\n",
    "args = (ran_key, lgmp_min, z0, Vbox_smdpl)\n",
    "lgmp_halopop_z0 = mc_hosts.mc_host_halos_singlez(*args, hmf_params=SMDPL_HMF_PARAMS)\n",
    "\n",
    "mc_cuml_density_rockstar_z0 = np.array([np.sum(lgmp_halopop_z0>lgmp) for lgmp in logmp_bins_rockstar_z0])"
   ]
  },
  {
   "cell_type": "code",
   "execution_count": null,
   "id": "6a5a906f-c057-499b-8c1e-f39b21c7fbbe",
   "metadata": {},
   "outputs": [],
   "source": [
    "logmp_bins_rockstar_z1 = np.load(os.path.join(drn_testing_data, \"sfr_catalog_0.460000.hosthalos.logmp_bins.npy\"))\n",
    "lgcuml_density_rockstar_z1 = np.load(os.path.join(drn_testing_data, \"sfr_catalog_0.460000.hosthalos.lgcuml_density.npy\"))\n",
    "z1 = 1/0.460000-1\n",
    "\n",
    "lgmp_min = logmp_bins_rockstar_z1.min()\n",
    "args = (ran_key, lgmp_min, z1, Vbox_smdpl)\n",
    "lgmp_halopop_z1 = mc_hosts.mc_host_halos_singlez(*args, hmf_params=SMDPL_HMF_PARAMS)\n",
    "\n",
    "mc_cuml_density_rockstar_z1 = np.array([np.sum(lgmp_halopop_z1>lgmp) for lgmp in logmp_bins_rockstar_z1])"
   ]
  },
  {
   "cell_type": "code",
   "execution_count": null,
   "id": "4753a64a-85d2-4fa0-9601-3acfd1557370",
   "metadata": {},
   "outputs": [],
   "source": [
    "fig, ax = plt.subplots(1, 1)\n",
    "\n",
    "__=ax.loglog()\n",
    "\n",
    "__=ax.plot(10**logmp_bins_rockstar_z0, 10**lgcuml_density_rockstar_z0, color='blue')\n",
    "__=ax.plot(10**logmp_bins_rockstar_z0, mc_cuml_density_rockstar_z0/Vbox_smdpl, '--', color='blue')\n",
    "\n",
    "__=ax.plot(10**logmp_bins_rockstar_z1, 10**lgcuml_density_rockstar_z1, color='red')\n",
    "__=ax.plot(10**logmp_bins_rockstar_z1, mc_cuml_density_rockstar_z1/Vbox_smdpl, '--', color='red')\n",
    "\n",
    "from matplotlib import lines as mlines\n",
    "red_line=mlines.Line2D([],[],ls='-',c='red',label=r'$z=1$')\n",
    "blue_line=mlines.Line2D([],[],ls='-',c='blue',label=r'$z=0$')\n",
    "leg1=ax.legend(handles=[red_line, blue_line], loc='upper right')\n",
    "__=ax.add_artist(leg1)\n",
    "\n",
    "solid_line=mlines.Line2D([],[],ls='-',c='k',label=r'${\\rm SMDPL\\ simulation}$')\n",
    "dashed_line=mlines.Line2D([],[],ls='--',c='k',label=r'${\\rm Monte\\ Carlo\\ halos}$')\n",
    "leg2=ax.legend(handles=[solid_line, dashed_line], loc='lower left') \n",
    "\n",
    "xlabel = ax.set_xlabel(r'$M_{\\rm halo}\\ [M_{\\odot}]$')\n",
    "ylabel = ax.set_ylabel(r'$n(>M_{\\rm halo})\\ {\\rm [1/Mpc^3]}$')"
   ]
  }
 ],
 "metadata": {
  "kernelspec": {
   "display_name": "Python 3 (ipykernel)",
   "language": "python",
   "name": "python3"
  },
  "language_info": {
   "codemirror_mode": {
    "name": "ipython",
    "version": 3
   },
   "file_extension": ".py",
   "mimetype": "text/x-python",
   "name": "python",
   "nbconvert_exporter": "python",
   "pygments_lexer": "ipython3",
   "version": "3.12.9"
  }
 },
 "nbformat": 4,
 "nbformat_minor": 5
}
