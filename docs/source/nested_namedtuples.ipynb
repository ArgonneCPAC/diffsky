{
 "cells": [
  {
   "cell_type": "code",
   "execution_count": 1,
   "id": "dcbd5d00-d233-4704-8616-6f6a21fb315f",
   "metadata": {},
   "outputs": [],
   "source": [
    "from collections import namedtuple"
   ]
  },
  {
   "cell_type": "code",
   "execution_count": 3,
   "id": "736f6634-b66c-4b57-af04-51c5e1875255",
   "metadata": {},
   "outputs": [
    {
     "data": {
      "text/plain": [
       "Params1(x=4, y=5)"
      ]
     },
     "execution_count": 3,
     "metadata": {},
     "output_type": "execute_result"
    }
   ],
   "source": [
    "Params1 = namedtuple(\"Params1\", (\"x\", \"y\"))\n",
    "params1 = Params1(4, 5)\n",
    "params1"
   ]
  },
  {
   "cell_type": "code",
   "execution_count": 4,
   "id": "57549bab-87ff-4564-a69b-16edfebbea1e",
   "metadata": {},
   "outputs": [
    {
     "data": {
      "text/plain": [
       "Params1(z=6, w=7)"
      ]
     },
     "execution_count": 4,
     "metadata": {},
     "output_type": "execute_result"
    }
   ],
   "source": [
    "Params2 = namedtuple(\"Params1\", (\"z\", \"w\"))\n",
    "params2 = Params2(6, 7)\n",
    "params2"
   ]
  },
  {
   "cell_type": "code",
   "execution_count": 7,
   "id": "e8b72578-0af7-420c-87dd-aec34e6ac31b",
   "metadata": {},
   "outputs": [
    {
     "data": {
      "text/plain": [
       "CompositeParams(params1=Params1(x=4, y=5), params2=Params1(z=6, w=7))"
      ]
     },
     "execution_count": 7,
     "metadata": {},
     "output_type": "execute_result"
    }
   ],
   "source": [
    "CompositeParams = namedtuple(\"CompositeParams\", (\"params1\", \"params2\"))\n",
    "composite_params = CompositeParams(params1, params2)\n",
    "composite_params"
   ]
  },
  {
   "cell_type": "code",
   "execution_count": 8,
   "id": "e562063b-2aab-489d-9674-4946912c4eaa",
   "metadata": {},
   "outputs": [
    {
     "ename": "ValueError",
     "evalue": "Got unexpected field names: ['x']",
     "output_type": "error",
     "traceback": [
      "\u001b[31m---------------------------------------------------------------------------\u001b[39m",
      "\u001b[31mValueError\u001b[39m                                Traceback (most recent call last)",
      "\u001b[36mCell\u001b[39m\u001b[36m \u001b[39m\u001b[32mIn[8]\u001b[39m\u001b[32m, line 1\u001b[39m\n\u001b[32m----> \u001b[39m\u001b[32m1\u001b[39m \u001b[43mcomposite_params\u001b[49m\u001b[43m.\u001b[49m\u001b[43m_replace\u001b[49m\u001b[43m(\u001b[49m\u001b[43mx\u001b[49m\u001b[43m=\u001b[49m\u001b[32;43m0\u001b[39;49m\u001b[43m)\u001b[49m\n",
      "\u001b[36mFile \u001b[39m\u001b[32m~/miniforge3/envs/diffdev3129/lib/python3.12/collections/__init__.py:460\u001b[39m, in \u001b[36mnamedtuple.<locals>._replace\u001b[39m\u001b[34m(self, **kwds)\u001b[39m\n\u001b[32m    458\u001b[39m result = \u001b[38;5;28mself\u001b[39m._make(_map(kwds.pop, field_names, \u001b[38;5;28mself\u001b[39m))\n\u001b[32m    459\u001b[39m \u001b[38;5;28;01mif\u001b[39;00m kwds:\n\u001b[32m--> \u001b[39m\u001b[32m460\u001b[39m     \u001b[38;5;28;01mraise\u001b[39;00m \u001b[38;5;167;01mValueError\u001b[39;00m(\u001b[33mf\u001b[39m\u001b[33m'\u001b[39m\u001b[33mGot unexpected field names: \u001b[39m\u001b[38;5;132;01m{\u001b[39;00m\u001b[38;5;28mlist\u001b[39m(kwds)\u001b[38;5;132;01m!r}\u001b[39;00m\u001b[33m'\u001b[39m)\n\u001b[32m    461\u001b[39m \u001b[38;5;28;01mreturn\u001b[39;00m result\n",
      "\u001b[31mValueError\u001b[39m: Got unexpected field names: ['x']"
     ]
    }
   ],
   "source": [
    "composite_params._replace(x=0)"
   ]
  },
  {
   "cell_type": "code",
   "execution_count": 11,
   "id": "ae2e6ab3-9ffe-4426-8b53-16cd03d8f215",
   "metadata": {},
   "outputs": [
    {
     "data": {
      "text/plain": [
       "CompositeParams(params1=Params1(x=0, y=5), params2=Params1(z=6, w=7))"
      ]
     },
     "execution_count": 11,
     "metadata": {},
     "output_type": "execute_result"
    }
   ],
   "source": [
    "alt_params1 = params1._replace(x=0)\n",
    "composite_params = composite_params._replace(params1=alt_params1)\n",
    "composite_params"
   ]
  },
  {
   "cell_type": "code",
   "execution_count": null,
   "id": "40aa1ae5-5c53-4397-83e5-b7fb88e2f4ca",
   "metadata": {},
   "outputs": [],
   "source": []
  }
 ],
 "metadata": {
  "kernelspec": {
   "display_name": "Python 3 (ipykernel)",
   "language": "python",
   "name": "python3"
  },
  "language_info": {
   "codemirror_mode": {
    "name": "ipython",
    "version": 3
   },
   "file_extension": ".py",
   "mimetype": "text/x-python",
   "name": "python",
   "nbconvert_exporter": "python",
   "pygments_lexer": "ipython3",
   "version": "3.12.9"
  }
 },
 "nbformat": 4,
 "nbformat_minor": 5
}
