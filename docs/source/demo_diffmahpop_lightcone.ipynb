{
 "cells": [
  {
   "cell_type": "markdown",
   "id": "5ce45be1-e5ce-417a-a6de-38b4752c54e8",
   "metadata": {},
   "source": [
    "# Generating a weighted Monte Carlo lightcone of dark matter halos\n",
    "\n",
    "This notebook demonstrates how to generate a lightcone of dark matter halos with mass assembly histories."
   ]
  },
  {
   "cell_type": "code",
   "execution_count": null,
   "id": "93895668-3dbd-49b5-9fa7-a0cbc165e7aa",
   "metadata": {},
   "outputs": [],
   "source": [
    "import numpy as np\n",
    "from matplotlib import pyplot as plt\n",
    "\n",
    "from jax import random as jran\n",
    "ran_key = jran.key(0)"
   ]
  },
  {
   "cell_type": "markdown",
   "id": "f7cd3d61-dd81-4231-a5ad-fe5cef682dbf",
   "metadata": {},
   "source": [
    "### Generate a lightcone of dark matter halos\n",
    "\n",
    "Use the `mc_weighted_halo_lightcone` function to generate a population of central halos."
   ]
  },
  {
   "cell_type": "code",
   "execution_count": null,
   "id": "0200b869-3c72-4af9-82a5-085a69215c7e",
   "metadata": {},
   "outputs": [],
   "source": [
    "from diffsky.experimental.mc_lightcone_halos import mc_weighted_halo_lightcone\n",
    "\n",
    "num_halos = 5_000\n",
    "z_min, z_max = 0.01, 2.0\n",
    "lgmp_min, lgmp_max = 10.5, 15.5\n",
    "sky_area_degsq = 1.0\n",
    "\n",
    "ran_key, lc_key = jran.split(ran_key, 2)\n",
    "args =(\n",
    "    lc_key,\n",
    "    num_halos,\n",
    "    z_min,\n",
    "    z_max,\n",
    "    lgmp_min,\n",
    "    lgmp_max,\n",
    "    sky_area_degsq)\n",
    "\n",
    "cenpop = mc_weighted_halo_lightcone(*args)\n",
    "print(cenpop.keys())\n",
    "print(np.mean(np.isnan(cenpop['mah_params'].logm0)))"
   ]
  },
  {
   "cell_type": "markdown",
   "id": "ab2e87de-2a48-4385-bcf9-f4c1b2fdfe0e",
   "metadata": {},
   "source": [
    "#### Sanity check the `logmp_obs` column agrees when recomputed"
   ]
  },
  {
   "cell_type": "code",
   "execution_count": null,
   "id": "e394624a-3bc1-4899-ba54-f3f1b32c3907",
   "metadata": {},
   "outputs": [],
   "source": [
    "from diffmah import mah_halopop\n",
    "t0 = 13.8\n",
    "tarr = np.linspace(0.1, t0, 200)\n",
    "\n",
    "dmhdt, log_mah = mah_halopop(cenpop['mah_params'], tarr, np.log10(t0))\n",
    "\n",
    "from jax import vmap\n",
    "from jax import jit as jjit\n",
    "from jax import numpy as jnp\n",
    "interp_vmap = jjit(vmap(jnp.interp, in_axes=(0, None, 0)))\n",
    "\n",
    "logmp_obs = interp_vmap(cenpop[\"t_obs\"], tarr, log_mah)\n",
    "assert np.allclose(logmp_obs, cenpop['logmp_obs'], rtol=1e-3)"
   ]
  },
  {
   "cell_type": "markdown",
   "id": "f4aa568b-1541-416c-9f02-be47423523fd",
   "metadata": {},
   "source": [
    "#### Examine the range of `{m_obs, z_obs}` spanned by the population\n",
    "\n",
    "Halo mass and redshift uniformly span the input ranges"
   ]
  },
  {
   "cell_type": "code",
   "execution_count": null,
   "id": "05d3ec22-b788-4b74-88c1-43374e63bfeb",
   "metadata": {},
   "outputs": [],
   "source": [
    "fig, ax = plt.subplots(1, 1)\n",
    "yscale = ax.set_yscale('log')\n",
    "__=ax.scatter(cenpop['z_obs'], 10**cenpop['logmp_obs'], s=1)\n",
    "xlabel = ax.set_xlabel(r'$z_{\\rm obs}$')\n",
    "ylabel = ax.set_ylabel(r'$M_{\\rm halo}\\ [M_{\\odot}]$')"
   ]
  },
  {
   "cell_type": "markdown",
   "id": "01296d50-8126-4175-9138-2c268a8fbacf",
   "metadata": {},
   "source": [
    "#### For the _weighted_ lightcone, each halo has multiplicity according to its abundance in the volume\n",
    "\n",
    "This `nhalos` column needs to be taken into account when predicting summary statistics from the weighted lightcone."
   ]
  },
  {
   "cell_type": "code",
   "execution_count": null,
   "id": "5eda0e6a-dc9b-4a1d-a5d5-b0b3ccd2644b",
   "metadata": {},
   "outputs": [],
   "source": [
    "fig, ax = plt.subplots(1, 1)\n",
    "__=ax.loglog()\n",
    "__=ax.scatter(10**cenpop['logmp_obs'], cenpop['nhalos'], s=1)\n",
    "xlabel = ax.set_xlabel(r'$M_{\\rm halo}\\ [M_{\\odot}]$')\n",
    "ylabel = ax.set_ylabel(r'$N_{\\rm halos}$')"
   ]
  },
  {
   "cell_type": "markdown",
   "id": "1fd9fdf0-d8a9-4eb3-a001-28fcc71aba12",
   "metadata": {},
   "source": [
    "#### Calculate the halo mass function, accounting for halo weights\n",
    "\n",
    "The unweighted version uniformly spans $\\log_{10}M_{\\rm halo}$. The weighted version has the expected Schechter-type shape of the HMF."
   ]
  },
  {
   "cell_type": "code",
   "execution_count": null,
   "id": "b7a1f660-f56d-44f5-9324-d741f64a9dc7",
   "metadata": {},
   "outputs": [],
   "source": [
    "fig, ax = plt.subplots(1, 1)\n",
    "yscale = ax.set_yscale('log')\n",
    "__=ax.hist(cenpop['logmp_obs'], bins=100, alpha=0.7, label=r'${\\rm unweighted}$')\n",
    "__=ax.hist(cenpop['logmp_obs'], bins=100, weights=cenpop['nhalos'], alpha=0.7, label=r'${\\rm weighted}$')\n",
    "xlabel = ax.set_xlabel(r'$\\log_{10}M_{\\rm halo}/M_{\\odot}$')\n",
    "ylabel = ax.set_ylabel(r'$N_{\\rm halos}$')\n",
    "leg = ax.legend()"
   ]
  },
  {
   "cell_type": "markdown",
   "id": "aaee2cdd-8cbd-415c-bac0-4d2d7c950774",
   "metadata": {},
   "source": [
    "#### Calculate $n_{\\rm halo}(z),$ accounting for halo weights\n",
    "\n",
    "The unweighted version uniformly spans $z_{\\rm min}<z<z_{\\rm max}$. The weighted version accounts for the redshift evolution of the cosmological volume element and the mass function."
   ]
  },
  {
   "cell_type": "code",
   "execution_count": null,
   "id": "e7b41f8a-f7fe-47e3-b088-e004a3d0b1c2",
   "metadata": {},
   "outputs": [],
   "source": [
    "fig, ax = plt.subplots(1, 1)\n",
    "yscale = ax.set_yscale('log')\n",
    "__=ax.hist(cenpop['z_obs'], bins=100, alpha=0.7, label=r'${\\rm unweighted}$')\n",
    "__=ax.hist(cenpop['z_obs'], bins=100, weights=cenpop['nhalos'], alpha=0.7, label=r'${\\rm weighted}$')\n",
    "xlabel = ax.set_xlabel(r'${\\rm redshift}$')\n",
    "ylabel = ax.set_ylabel(r'$N_{\\rm halos}$')\n",
    "leg = ax.legend()"
   ]
  },
  {
   "cell_type": "markdown",
   "id": "c4de179f-e5b5-4348-a070-18103d5ff5cb",
   "metadata": {},
   "source": [
    "### Examine the diversity of mass assembly histories of the halos\n",
    "\n",
    "Each generated halo has diffmah parameters that let us compute its mass assembly history with the `mah_halopop` function. This function has a required argument `lgt0` specifying the base-10 log of the age of the universe at $z=0.$ In general, this should be set consistently with the assumed cosmology. For purposes of this demo, we will just use $t_0=13.8$ Gyr."
   ]
  },
  {
   "cell_type": "code",
   "execution_count": null,
   "id": "0faee0f0-fce9-441d-afec-cd38d2a4ae28",
   "metadata": {},
   "outputs": [],
   "source": [
    "from diffmah import mah_halopop\n",
    "\n",
    "t0 = 13.8\n",
    "lgt0 = np.log10(t0)\n",
    "tarr = np.linspace(0.5, t0, 100)\n",
    "dhmdt, log_mah = mah_halopop(cenpop['mah_params'], tarr, lgt0)"
   ]
  },
  {
   "cell_type": "code",
   "execution_count": null,
   "id": "97108b3a-d2f0-41ab-bda9-0a9e72580b0a",
   "metadata": {},
   "outputs": [],
   "source": [
    "fig, ax = plt.subplots(1, 1)\n",
    "yscale = ax.set_yscale('log')\n",
    "\n",
    "n_plot = 10\n",
    "for i in range(n_plot):\n",
    "    __=ax.plot(tarr, 10**log_mah[i, :])\n",
    "\n",
    "xlabel = ax.set_xlabel(r'${\\rm cosmic\\ time\\ [Gyr]}$')\n",
    "ylabel = ax.set_ylabel(r'$M_{\\rm halo}\\ [M_{\\odot}]$')"
   ]
  },
  {
   "cell_type": "code",
   "execution_count": null,
   "id": "83af689d-e746-4983-827d-a959a6ad8fe3",
   "metadata": {},
   "outputs": [],
   "source": []
  }
 ],
 "metadata": {
  "kernelspec": {
   "display_name": "Python 3 (ipykernel)",
   "language": "python",
   "name": "python3"
  },
  "language_info": {
   "codemirror_mode": {
    "name": "ipython",
    "version": 3
   },
   "file_extension": ".py",
   "mimetype": "text/x-python",
   "name": "python",
   "nbconvert_exporter": "python",
   "pygments_lexer": "ipython3",
   "version": "3.12.9"
  }
 },
 "nbformat": 4,
 "nbformat_minor": 5
}
